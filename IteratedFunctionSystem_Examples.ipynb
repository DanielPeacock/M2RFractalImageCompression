{
 "cells": [
  {
   "cell_type": "code",
   "execution_count": 1,
   "metadata": {},
   "outputs": [],
   "source": [
    "import AffineTransformation as af\n",
    "import IFS as ifs\n",
    "\n",
    "# https://qmplus.qmul.ac.uk/pluginfile.php/2665145/mod_resource/content/1/160355141_Habib_Wahab_MTH6138_IFS.pdf"
   ]
  },
  {
   "cell_type": "markdown",
   "metadata": {},
   "source": [
    "Drawing Barsley Fern using IFS"
   ]
  },
  {
   "cell_type": "code",
   "execution_count": 2,
   "metadata": {
    "scrolled": true
   },
   "outputs": [
    {
     "ename": "AttributeError",
     "evalue": "module 'IFS' has no attribute 'show_thousand_and_mil_iters'",
     "output_type": "error",
     "traceback": [
      "\u001b[0;31m---------------------------------------------------------------------------\u001b[0m",
      "\u001b[0;31mAttributeError\u001b[0m                            Traceback (most recent call last)",
      "\u001b[0;32m<ipython-input-2-64a2bbd1f994>\u001b[0m in \u001b[0;36m<module>\u001b[0;34m\u001b[0m\n\u001b[1;32m      9\u001b[0m \u001b[0mprobs\u001b[0m \u001b[0;34m=\u001b[0m \u001b[0;34m[\u001b[0m\u001b[0;36m0.01\u001b[0m\u001b[0;34m,\u001b[0m \u001b[0;36m0.85\u001b[0m\u001b[0;34m,\u001b[0m \u001b[0;36m0.07\u001b[0m\u001b[0;34m,\u001b[0m \u001b[0;36m0.07\u001b[0m\u001b[0;34m]\u001b[0m\u001b[0;34m\u001b[0m\u001b[0;34m\u001b[0m\u001b[0m\n\u001b[1;32m     10\u001b[0m \u001b[0;34m\u001b[0m\u001b[0m\n\u001b[0;32m---> 11\u001b[0;31m \u001b[0mifs\u001b[0m\u001b[0;34m.\u001b[0m\u001b[0mshow_thousand_and_mil_iters\u001b[0m\u001b[0;34m(\u001b[0m\u001b[0;34m\"Barnsley Fern\"\u001b[0m\u001b[0;34m,\u001b[0m \u001b[0mfns\u001b[0m\u001b[0;34m,\u001b[0m \u001b[0mprobs\u001b[0m\u001b[0;34m,\u001b[0m \u001b[0;34m(\u001b[0m\u001b[0;36m0\u001b[0m\u001b[0;34m,\u001b[0m\u001b[0;36m0\u001b[0m\u001b[0;34m)\u001b[0m\u001b[0;34m)\u001b[0m\u001b[0;34m\u001b[0m\u001b[0;34m\u001b[0m\u001b[0m\n\u001b[0m",
      "\u001b[0;31mAttributeError\u001b[0m: module 'IFS' has no attribute 'show_thousand_and_mil_iters'"
     ]
    }
   ],
   "source": [
    "# Define transformations\n",
    "#barnsley fern        \n",
    "w1 = af.AffineTransformation(0, 0, 0, 0.16, 0, 0)\n",
    "w2 = af.AffineTransformation(0.85, 0.04, -0.04, 0.85, 0, 1.6)\n",
    "w3 = af.AffineTransformation(0.20, -0.26, 0.23, 0.22, 0, 1.6)\n",
    "w4 = af.AffineTransformation(-0.15, 0.28, 0.26, 0.24, 0, 0.44)\n",
    "\n",
    "fns = [w1, w2, w3, w4]\n",
    "probs = [0.01, 0.85, 0.07, 0.07]\n",
    "\n",
    "fern_ifs = ifs.IFS(\"Barnsley Fern\", fns, probs, (0,0))\n",
    "\n",
    "fern_ifs.show_thousand_and_mil_iters()"
   ]
  },
  {
   "cell_type": "markdown",
   "metadata": {},
   "source": [
    "Drawing Sierpinski Triangle using an IFS"
   ]
  },
  {
   "cell_type": "code",
   "execution_count": null,
   "metadata": {},
   "outputs": [],
   "source": [
    "# Define transformations for sierpinski triangle\n",
    "w1 = af.AffineTransformation(1/2, 0, 0, 1/2, -3/2, 0)\n",
    "w2 = af.AffineTransformation(1/2, 0, 0, 1/2, 3/2, 0)\n",
    "w3 = af.AffineTransformation(1/2, 0, 0, 1/2, 0, 3/2)\n",
    "\n",
    "fns = [w1, w2, w3]\n",
    "probs = [1/3, 1/3, 1/3]\n",
    "\n",
    "ifs.(\"Sierpinski Triangle\", fns, probs, (0,0))"
   ]
  }
 ],
 "metadata": {
  "kernelspec": {
   "display_name": "Python 3",
   "language": "python",
   "name": "python3"
  },
  "language_info": {
   "codemirror_mode": {
    "name": "ipython",
    "version": 3
   },
   "file_extension": ".py",
   "mimetype": "text/x-python",
   "name": "python",
   "nbconvert_exporter": "python",
   "pygments_lexer": "ipython3",
   "version": "3.7.6"
  }
 },
 "nbformat": 4,
 "nbformat_minor": 2
}
