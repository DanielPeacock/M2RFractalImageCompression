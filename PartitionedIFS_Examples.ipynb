{
 "cells": [
  {
   "cell_type": "markdown",
   "metadata": {},
   "source": [
    "# Implementation of Image Compression with Partitioned IFS\n",
    "\n",
    "Only implemented with black and white images for simplicity"
   ]
  },
  {
   "cell_type": "code",
   "execution_count": 1,
   "metadata": {},
   "outputs": [],
   "source": [
    "import AffineTransformation as af\n",
    "import IFS as ifs\n",
    "import DomainBlock as db\n",
    "import PIFS"
   ]
  },
  {
   "cell_type": "code",
   "execution_count": 2,
   "metadata": {},
   "outputs": [],
   "source": [
    "#create domain blocks \n",
    "#each domain block has 1 ifs\n",
    "#apply each of the ifss to its domain block\n",
    "\n",
    "#assume have square domain blocks -> need two points to represent them\n",
    "#have starting points in each domain block (say corner or smth)\n",
    "#at each iteration, calculate next point from previous \n",
    "#(2d arrays, x[0][0] initial point in 0th domain block, x[0][1] next point in 0th domain block)\n",
    "\n",
    "#use IFS defined before"
   ]
  },
  {
   "cell_type": "code",
   "execution_count": 3,
   "metadata": {},
   "outputs": [
    {
     "ename": "TypeError",
     "evalue": "__init__() missing 1 required positional argument: 'height'",
     "output_type": "error",
     "traceback": [
      "\u001b[0;31m---------------------------------------------------------------------------\u001b[0m",
      "\u001b[0;31mTypeError\u001b[0m                                 Traceback (most recent call last)",
      "\u001b[0;32m<ipython-input-3-cdfb05ab01d5>\u001b[0m in \u001b[0;36m<module>\u001b[0;34m\u001b[0m\n\u001b[1;32m     13\u001b[0m \u001b[0;34m\u001b[0m\u001b[0m\n\u001b[1;32m     14\u001b[0m \u001b[0mbot_right1\u001b[0m \u001b[0;34m=\u001b[0m \u001b[0;34m(\u001b[0m\u001b[0;36m1.5\u001b[0m\u001b[0;34m,\u001b[0m \u001b[0;36m1.5\u001b[0m\u001b[0;34m)\u001b[0m\u001b[0;34m\u001b[0m\u001b[0;34m\u001b[0m\u001b[0m\n\u001b[0;32m---> 15\u001b[0;31m \u001b[0md1\u001b[0m \u001b[0;34m=\u001b[0m \u001b[0mdb\u001b[0m\u001b[0;34m.\u001b[0m\u001b[0mDomainBlock\u001b[0m\u001b[0;34m(\u001b[0m\u001b[0;34m(\u001b[0m\u001b[0;34m-\u001b[0m\u001b[0;36m1.5\u001b[0m\u001b[0;34m,\u001b[0m \u001b[0;36m3\u001b[0m\u001b[0;34m)\u001b[0m\u001b[0;34m,\u001b[0m \u001b[0mbot_right1\u001b[0m\u001b[0;34m)\u001b[0m\u001b[0;34m\u001b[0m\u001b[0;34m\u001b[0m\u001b[0m\n\u001b[0m\u001b[1;32m     16\u001b[0m \u001b[0;34m\u001b[0m\u001b[0m\n\u001b[1;32m     17\u001b[0m \u001b[0mfns1\u001b[0m \u001b[0;34m=\u001b[0m \u001b[0msierpinski_fns\u001b[0m\u001b[0;34m(\u001b[0m\u001b[0;34m(\u001b[0m\u001b[0;36m0\u001b[0m\u001b[0;34m,\u001b[0m \u001b[0;36m3\u001b[0m\u001b[0;34m)\u001b[0m\u001b[0;34m,\u001b[0m \u001b[0;34m(\u001b[0m\u001b[0;34m-\u001b[0m\u001b[0;36m1.5\u001b[0m\u001b[0;34m,\u001b[0m \u001b[0;36m1.5\u001b[0m\u001b[0;34m)\u001b[0m\u001b[0;34m,\u001b[0m \u001b[0;34m(\u001b[0m\u001b[0;36m1.5\u001b[0m\u001b[0;34m,\u001b[0m \u001b[0;36m1.5\u001b[0m\u001b[0;34m)\u001b[0m\u001b[0;34m)\u001b[0m\u001b[0;34m\u001b[0m\u001b[0;34m\u001b[0m\u001b[0m\n",
      "\u001b[0;31mTypeError\u001b[0m: __init__() missing 1 required positional argument: 'height'"
     ]
    }
   ],
   "source": [
    "#Sierpinski triangle\n",
    "\n",
    "#sierpinski transforms for given points\n",
    "def sierpinski_fns(a, b, c):\n",
    "    w1 = af.AffineTransformation(1/2, 0, 0, 1/2, a[0]/2, a[1]/2)\n",
    "    w2 = af.AffineTransformation(1/2, 0, 0, 1/2, b[0]/2, b[1]/2)\n",
    "    w3 = af.AffineTransformation(1/2, 0, 0, 1/2, c[0]/2, c[1]/2)\n",
    "    \n",
    "    return [w1, w2, w3]\n",
    "\n",
    "#initialisation\n",
    "probs = [1/3, 1/3, 1/3]\n",
    "\n",
    "bot_right1 = (1.5, 1.5)\n",
    "d1 = db.DomainBlock((-1.5, 3), bot_right1)\n",
    "\n",
    "fns1 = sierpinski_fns((0, 3), (-1.5, 1.5), (1.5, 1.5))\n",
    "ifs1 = ifs.IFS(\"ifs1\", fns1, probs, bot_right1)\n",
    "\n",
    "bot_right2 = (0, 0)\n",
    "d2 = db.DomainBlock((-3, 1.5), bot_right2)\n",
    "\n",
    "fns2 = sierpinski_fns((-1.5, 1.5), (-3, 0), (0, 0))\n",
    "ifs2 = ifs.IFS(\"ifs2\", fns2, probs, bot_right2)\n",
    "\n",
    "\n",
    "bot_right3 = (3, 0)\n",
    "d3 = db.DomainBlock((0, 1.5), bot_right3)\n",
    "\n",
    "fns3 = sierpinski_fns((1.5, 1.5), (0, 0), (3, 0))\n",
    "ifs3 = ifs.IFS(\"ifs3\", fns3, probs, bot_right3)\n",
    "\n",
    "#creation of pifs\n",
    "domain_blocks = [d1, d2, d3]\n",
    "ifs_list = [ifs1, ifs2, ifs3]\n",
    "\n",
    "pifs = PIFS.PIFS(\"Sierpinski Triangle\", domain_blocks, ifs_list)\n",
    "\n",
    "#showing attractor\n",
    "n = 1000000\n",
    "pifs.show_image(n)\n"
   ]
  },
  {
   "cell_type": "code",
   "execution_count": null,
   "metadata": {},
   "outputs": [],
   "source": [
    "#sierpinski triangle with top triangle flipped (to show domain blocks are independent)\n",
    "fns1_alt = sierpinski_fns((0, 1.5), (-1.5, 3), (1.5, 3))\n",
    "ifs1_alt = ifs.IFS(\"ifs1_alt\", fns1_alt, probs, (0, 1.5))\n",
    "\n",
    "domain_blocks = [d2, d2, d3]\n",
    "ifs_list_alt = [ifs1_alt, ifs2, ifs3]\n",
    "\n",
    "pifs_alt = PIFS.PIFS(\"Sierpinski with top triangle flipped\", domain_blocks, ifs_list_alt)\n",
    "\n",
    "#show attractor\n",
    "n = 1000000\n",
    "pifs_alt.show_image(n)"
   ]
  },
  {
   "cell_type": "code",
   "execution_count": null,
   "metadata": {},
   "outputs": [],
   "source": []
  }
 ],
 "metadata": {
  "kernelspec": {
   "display_name": "Python 3",
   "language": "python",
   "name": "python3"
  },
  "language_info": {
   "codemirror_mode": {
    "name": "ipython",
    "version": 3
   },
   "file_extension": ".py",
   "mimetype": "text/x-python",
   "name": "python",
   "nbconvert_exporter": "python",
   "pygments_lexer": "ipython3",
   "version": "3.7.6"
  }
 },
 "nbformat": 4,
 "nbformat_minor": 2
}
