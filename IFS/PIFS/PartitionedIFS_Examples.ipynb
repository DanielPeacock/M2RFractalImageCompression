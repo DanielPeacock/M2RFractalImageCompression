{
 "cells": [
  {
   "attachments": {},
   "cell_type": "markdown",
   "metadata": {},
   "source": [
    "# Implementation of Image Compression with Partitioned IFS\n",
    "\n",
    "Only implemented with black and white images for simplicity"
   ]
  },
  {
   "cell_type": "code",
   "execution_count": 5,
   "metadata": {},
   "outputs": [],
   "source": [
    "# preamble to set up directory\n",
    "import os, sys\n",
    "dir2 = os.path.abspath('')\n",
    "dir1 = os.path.dirname(dir2)\n",
    "if not dir1 in sys.path: sys.path.append(dir1)"
   ]
  },
  {
   "cell_type": "code",
   "execution_count": 6,
   "metadata": {},
   "outputs": [],
   "source": [
    "# import classes\n",
    "\n",
    "from AffineTransformation import AffineTransformation\n",
    "from IFS import IFS\n",
    "from DomainBlock import DomainBlock\n",
    "from PIFS import PIFS, Window"
   ]
  },
  {
   "cell_type": "code",
   "execution_count": 3,
   "metadata": {},
   "outputs": [],
   "source": [
    "#create domain blocks \n",
    "#each domain block has 1 ifs\n",
    "#apply each of the ifss to its domain block\n",
    "\n",
    "#assume have square domain blocks -> need two points to represent them\n",
    "#have starting points in each domain block (say corner or smth)\n",
    "#at each iteration, calculate next point from previous \n",
    "#(2d arrays, x[0][0] initial point in 0th domain block, x[0][1] next point in 0th domain block)\n",
    "\n",
    "#use IFS defined before"
   ]
  },
  {
   "cell_type": "code",
   "execution_count": 8,
   "metadata": {},
   "outputs": [
    {
     "ename": "AttributeError",
     "evalue": "'DomainBlock' object has no attribute 'contains'",
     "output_type": "error",
     "traceback": [
      "\u001b[1;31m---------------------------------------------------------------------------\u001b[0m",
      "\u001b[1;31mAttributeError\u001b[0m                            Traceback (most recent call last)",
      "\u001b[1;32mc:\\Users\\peacd\\OneDrive - Imperial College London\\Maths\\Fractal Image Compression Project\\M2RFractalImageCompression\\IFS\\PIFS\\PartitionedIFS_Examples.ipynb Cell 5\u001b[0m in \u001b[0;36m<cell line: 44>\u001b[1;34m()\u001b[0m\n\u001b[0;32m     <a href='vscode-notebook-cell:/c%3A/Users/peacd/OneDrive%20-%20Imperial%20College%20London/Maths/Fractal%20Image%20Compression%20Project/M2RFractalImageCompression/IFS/PIFS/PartitionedIFS_Examples.ipynb#W3sZmlsZQ%3D%3D?line=41'>42</a>\u001b[0m \u001b[39m#showing attractor\u001b[39;00m\n\u001b[0;32m     <a href='vscode-notebook-cell:/c%3A/Users/peacd/OneDrive%20-%20Imperial%20College%20London/Maths/Fractal%20Image%20Compression%20Project/M2RFractalImageCompression/IFS/PIFS/PartitionedIFS_Examples.ipynb#W3sZmlsZQ%3D%3D?line=42'>43</a>\u001b[0m n \u001b[39m=\u001b[39m \u001b[39m1000000\u001b[39m\n\u001b[1;32m---> <a href='vscode-notebook-cell:/c%3A/Users/peacd/OneDrive%20-%20Imperial%20College%20London/Maths/Fractal%20Image%20Compression%20Project/M2RFractalImageCompression/IFS/PIFS/PartitionedIFS_Examples.ipynb#W3sZmlsZQ%3D%3D?line=43'>44</a>\u001b[0m pifs\u001b[39m.\u001b[39;49mshow_image(n, window)\n",
      "File \u001b[1;32mc:\\Users\\peacd\\OneDrive - Imperial College London\\Maths\\Fractal Image Compression Project\\M2RFractalImageCompression\\IFS\\PIFS\\PIFS.py:68\u001b[0m, in \u001b[0;36mPIFS.show_image\u001b[1;34m(self, n, window)\u001b[0m\n\u001b[0;32m     67\u001b[0m \u001b[39mdef\u001b[39;00m \u001b[39mshow_image\u001b[39m(\u001b[39mself\u001b[39m, n, window):\n\u001b[1;32m---> 68\u001b[0m   x, y \u001b[39m=\u001b[39m \u001b[39mself\u001b[39;49m\u001b[39m.\u001b[39;49meta_generate_image(n, window)\n\u001b[0;32m     70\u001b[0m   \u001b[39mself\u001b[39m\u001b[39m.\u001b[39mset_figure(window)\n\u001b[0;32m     71\u001b[0m   plt\u001b[39m.\u001b[39mscatter(x, y, s\u001b[39m=\u001b[39m\u001b[39m100\u001b[39m\u001b[39m/\u001b[39mwindow\u001b[39m.\u001b[39mresolution)\n",
      "File \u001b[1;32mc:\\Users\\peacd\\OneDrive - Imperial College London\\Maths\\Fractal Image Compression Project\\M2RFractalImageCompression\\IFS\\PIFS\\PIFS.py:54\u001b[0m, in \u001b[0;36mPIFS.eta_generate_image\u001b[1;34m(self, n, window)\u001b[0m\n\u001b[0;32m     52\u001b[0m \u001b[39mfor\u001b[39;00m i \u001b[39min\u001b[39;00m np\u001b[39m.\u001b[39mlinspace(window\u001b[39m.\u001b[39mx_min, window\u001b[39m.\u001b[39mx_max, window\u001b[39m.\u001b[39mresolution):\n\u001b[0;32m     53\u001b[0m   \u001b[39mfor\u001b[39;00m j \u001b[39min\u001b[39;00m np\u001b[39m.\u001b[39mlinspace(window\u001b[39m.\u001b[39my_min, window\u001b[39m.\u001b[39my_max, window\u001b[39m.\u001b[39mresolution):\n\u001b[1;32m---> 54\u001b[0m     \u001b[39mif\u001b[39;00m \u001b[39mself\u001b[39;49m\u001b[39m.\u001b[39;49mis_in_attractor(n, (i,j)):\n\u001b[0;32m     55\u001b[0m       x\u001b[39m.\u001b[39mappend(i)\n\u001b[0;32m     56\u001b[0m       y\u001b[39m.\u001b[39mappend(j)\n",
      "File \u001b[1;32mc:\\Users\\peacd\\OneDrive - Imperial College London\\Maths\\Fractal Image Compression Project\\M2RFractalImageCompression\\IFS\\PIFS\\PIFS.py:33\u001b[0m, in \u001b[0;36mPIFS.is_in_attractor\u001b[1;34m(self, n, init_point)\u001b[0m\n\u001b[0;32m     31\u001b[0m \u001b[39m#check if point in any range block, and apply f(x,y) if so\u001b[39;00m\n\u001b[0;32m     32\u001b[0m \u001b[39mfor\u001b[39;00m i \u001b[39min\u001b[39;00m \u001b[39mrange\u001b[39m(\u001b[39mlen\u001b[39m(\u001b[39mself\u001b[39m\u001b[39m.\u001b[39mrange_blocks)):\n\u001b[1;32m---> 33\u001b[0m   \u001b[39mif\u001b[39;00m \u001b[39mself\u001b[39;49m\u001b[39m.\u001b[39;49mrange_blocks[i]\u001b[39m.\u001b[39;49mcontains(point):\n\u001b[0;32m     34\u001b[0m     \u001b[39mself\u001b[39m\u001b[39m.\u001b[39mtransformations[i]\u001b[39m.\u001b[39mapply_inverse(x, y)\n\u001b[0;32m     35\u001b[0m     \u001b[39mbreak\u001b[39;00m\n",
      "\u001b[1;31mAttributeError\u001b[0m: 'DomainBlock' object has no attribute 'contains'"
     ]
    }
   ],
   "source": [
    "#Sierpinski triangle\n",
    "\n",
    "#sierpinski transforms for given points\n",
    "def sierpinski_fns(a, b, c):\n",
    "    w1 = AffineTransformation(1/2, 0, 0, 1/2, a[0]/2, a[1]/2)\n",
    "    w2 = AffineTransformation(1/2, 0, 0, 1/2, b[0]/2, b[1]/2)\n",
    "    w3 = AffineTransformation(1/2, 0, 0, 1/2, c[0]/2, c[1]/2)\n",
    "    \n",
    "    return [w1, w2, w3]\n",
    "\n",
    "#initialisation\n",
    "probs = [1/3, 1/3, 1/3]\n",
    "\n",
    "bot_right1 = (1.5, 1.5)\n",
    "d1 = DomainBlock((-1.5, 3), bot_right1)\n",
    "\n",
    "fns1 = sierpinski_fns((0, 3), (-1.5, 1.5), (1.5, 1.5))\n",
    "ifs1 = IFS(\"ifs1\", fns1, probs, bot_right1)\n",
    "\n",
    "bot_right2 = (0, 0)\n",
    "d2 = DomainBlock((-3, 1.5), bot_right2)\n",
    "\n",
    "fns2 = sierpinski_fns((-1.5, 1.5), (-3, 0), (0, 0))\n",
    "ifs2 = IFS(\"ifs2\", fns2, probs, bot_right2)\n",
    "\n",
    "\n",
    "bot_right3 = (3, 0)\n",
    "d3 = DomainBlock((0, 1.5), bot_right3)\n",
    "\n",
    "fns3 = sierpinski_fns((1.5, 1.5), (0, 0), (3, 0))\n",
    "ifs3 = IFS(\"ifs3\", fns3, probs, bot_right3)\n",
    "\n",
    "#creation of pifs\n",
    "\n",
    "domain_blocks = [d1, d2, d3]\n",
    "ifs_list = [ifs1, ifs2, ifs3]\n",
    "\n",
    "pifs = PIFS(\"Sierpinski Triangle\", domain_blocks, ifs_list)\n",
    "\n",
    "#showing attractor\n",
    "n = 1000000\n",
    "pifs.show_image(n)\n"
   ]
  },
  {
   "cell_type": "code",
   "execution_count": null,
   "metadata": {},
   "outputs": [],
   "source": [
    "#sierpinski triangle with top triangle flipped (to show domain blocks are independent)\n",
    "fns1_alt = sierpinski_fns((0, 1.5), (-1.5, 3), (1.5, 3))\n",
    "ifs1_alt = ifs.IFS(\"ifs1_alt\", fns1_alt, probs, (0, 1.5))\n",
    "\n",
    "domain_blocks = [d2, d2, d3]\n",
    "ifs_list_alt = [ifs1_alt, ifs2, ifs3]\n",
    "\n",
    "pifs_alt = PIFS.PIFS(\"Sierpinski with top triangle flipped\", domain_blocks, ifs_list_alt)\n",
    "\n",
    "#show attractor\n",
    "n = 1000000\n",
    "pifs_alt.show_image(n)"
   ]
  },
  {
   "cell_type": "code",
   "execution_count": null,
   "metadata": {},
   "outputs": [],
   "source": []
  }
 ],
 "metadata": {
  "kernelspec": {
   "display_name": "Python 3",
   "language": "python",
   "name": "python3"
  },
  "language_info": {
   "codemirror_mode": {
    "name": "ipython",
    "version": 3
   },
   "file_extension": ".py",
   "mimetype": "text/x-python",
   "name": "python",
   "nbconvert_exporter": "python",
   "pygments_lexer": "ipython3",
   "version": "3.7.6"
  }
 },
 "nbformat": 4,
 "nbformat_minor": 2
}
