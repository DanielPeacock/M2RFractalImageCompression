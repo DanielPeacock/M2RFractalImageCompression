{
 "cells": [
  {
   "cell_type": "markdown",
   "metadata": {},
   "source": [
    "# Implementation of Image Compression with Partitioned IFS\n",
    "\n",
    "Only implemented with grayscale images for simplicity\n",
    "\n",
    "We will calculate the best contractions, limiting the different types of transformations to rotations and reflections to limit the amount of computation."
   ]
  },
  {
   "cell_type": "code",
   "execution_count": 7,
   "metadata": {},
   "outputs": [],
   "source": [
    "import matplotlib.pyplot as plt\n",
    "import AffineTransformation as af"
   ]
  },
  {
   "cell_type": "code",
   "execution_count": 14,
   "metadata": {},
   "outputs": [
    {
     "ename": "SyntaxError",
     "evalue": "invalid syntax (3604629329.py, line 1)",
     "output_type": "error",
     "traceback": [
      "\u001b[1;36m  Input \u001b[1;32mIn [14]\u001b[1;36m\u001b[0m\n\u001b[1;33m    def compress_image(image, )\u001b[0m\n\u001b[1;37m                               ^\u001b[0m\n\u001b[1;31mSyntaxError\u001b[0m\u001b[1;31m:\u001b[0m invalid syntax\n"
     ]
    }
   ],
   "source": [
    "#create domain blocks \n",
    "#each domain block has 1 ifs\n",
    "#apply each of the ifss to its domain block\n",
    "\n",
    "#assume have square domain blocks -> need two points to represent them\n",
    "#have starting points in each domain block (say corner or smth)\n",
    "#at each iteration, calculate next point from previous \n",
    "#(2d arrays, x[0][0] initial point in 0th domain block, x[0][1] next point in 0th domain block)\n",
    "\n",
    "#use IFS defined before"
   ]
  }
 ],
 "metadata": {
  "kernelspec": {
   "display_name": "Python 3",
   "language": "python",
   "name": "python3"
  },
  "language_info": {
   "codemirror_mode": {
    "name": "ipython",
    "version": 3
   },
   "file_extension": ".py",
   "mimetype": "text/x-python",
   "name": "python",
   "nbconvert_exporter": "python",
   "pygments_lexer": "ipython3",
   "version": "3.7.6"
  }
 },
 "nbformat": 4,
 "nbformat_minor": 2
}
