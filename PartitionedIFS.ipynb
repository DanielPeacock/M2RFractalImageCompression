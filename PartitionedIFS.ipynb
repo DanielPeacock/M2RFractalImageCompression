{
 "cells": [
  {
   "attachments": {},
   "cell_type": "markdown",
   "metadata": {},
   "source": [
    "# Implementation of Image Compression with Partitioned IFS\n",
    "\n",
    "Only implemented with grayscale images for simplicity\n",
    "\n",
    "We will calculate the best contractions, limiting the different types of transformations to rotations and reflections to limit the amount of computation."
   ]
  },
  {
   "cell_type": "code",
   "execution_count": 7,
   "metadata": {},
   "outputs": [],
   "source": [
    "import numpy as np\n",
    "import matplotlib.pyplot as plt\n",
    "import math\n",
    "from scipy import ndimage"
   ]
  },
  {
   "cell_type": "code",
   "execution_count": 13,
   "metadata": {},
   "outputs": [],
   "source": [
    "# Define affine transformations to be used to compress image\n",
    "\n",
    "def transform(image, reflect, angle, c = 1, b = 0):\n",
    "    if not reflect:\n",
    "        temp = rotate(image, angle)\n",
    "    else:\n",
    "        temp = rotate(reflect(image), angle)\n",
    "    \n",
    "    return c*temp + b\n",
    "\n",
    "def rotate(image, angle):\n",
    "    ndimage.rotate(image, angle, reshape=False)\n",
    "\n",
    "def reflect(image):\n",
    "    return image[::-1, :]\n",
    "\n",
    "def shrink_image(image, amount):\n",
    "    size_x, size_y = image.shape // amount\n",
    "    shrunk = np.zeros((size_x, size_y))\n",
    "    for row in range(size_x):\n",
    "        for col in range(size_y):\n",
    "            shrunk[row, col] = np.mean(image[row*amount:(row+1)*amount, col*amount:(col+1)*amount])\n",
    "\n",
    "    return shrunk\n",
    "\n"
   ]
  },
  {
   "cell_type": "code",
   "execution_count": 14,
   "metadata": {},
   "outputs": [
    {
     "ename": "SyntaxError",
     "evalue": "invalid syntax (3604629329.py, line 1)",
     "output_type": "error",
     "traceback": [
      "\u001b[1;36m  Input \u001b[1;32mIn [14]\u001b[1;36m\u001b[0m\n\u001b[1;33m    def compress_image(image, )\u001b[0m\n\u001b[1;37m                               ^\u001b[0m\n\u001b[1;31mSyntaxError\u001b[0m\u001b[1;31m:\u001b[0m invalid syntax\n"
     ]
    }
   ],
   "source": [
    "def generate_all_contractions(image, scaleAmount, )"
   ]
  }
 ],
 "metadata": {
  "kernelspec": {
   "display_name": "base",
   "language": "python",
   "name": "python3"
  },
  "language_info": {
   "codemirror_mode": {
    "name": "ipython",
    "version": 3
   },
   "file_extension": ".py",
   "mimetype": "text/x-python",
   "name": "python",
   "nbconvert_exporter": "python",
   "pygments_lexer": "ipython3",
   "version": "3.9.12"
  },
  "orig_nbformat": 4
 },
 "nbformat": 4,
 "nbformat_minor": 2
}
