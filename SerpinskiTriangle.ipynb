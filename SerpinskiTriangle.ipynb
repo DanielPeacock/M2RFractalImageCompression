{
 "cells": [
  {
   "cell_type": "code",
   "execution_count": 14,
   "metadata": {},
   "outputs": [],
   "source": [
    "## Import packages\n",
    "\n",
    "from matplotlib import pyplot as plt\n",
    "import numpy as np\n",
    "from random import random, randint\n",
    "from math import sqrt"
   ]
  },
  {
   "cell_type": "code",
   "execution_count": 21,
   "metadata": {},
   "outputs": [],
   "source": [
    "def get_midpoint(point1, point2):\n",
    "    x = 0.5 * (point1[0] + point2[0])\n",
    "    y = 0.5 * (point1[1] + point2[1])\n",
    "    return x, y"
   ]
  },
  {
   "cell_type": "code",
   "execution_count": 22,
   "metadata": {},
   "outputs": [],
   "source": [
    "def create_serpinski(n):\n",
    "\n",
    "    # n is number of iterations\n",
    "\n",
    "    # Set up vector of coordinates to be plotted\n",
    "    x_coords = np.zeros(n)\n",
    "    y_coords = np.zeros(n)\n",
    "\n",
    "    # Random first point\n",
    "\n",
    "    x_coords[0] = random()\n",
    "    y_coords[0] = random()\n",
    "\n",
    "    #define an equilateral triangle vertex locations, side length 1\n",
    "\n",
    "    triangle = [(0, 0), (0.5, sqrt(3/4)), (1, 0)]\n",
    "\n",
    "\n",
    "    for i in range(n):\n",
    "        vertex = randint(0, 2) # pick a vertex\n",
    "\n",
    "        # midpoint between random vertex and previous point\n",
    "        midpoint = get_midpoint(triangle[vertex], (x_coords[i - 1], y_coords[i - 1]))\n",
    "        x_coords[i] = midpoint[0]\n",
    "        y_coords[i] = midpoint[1]\n",
    "    \n",
    "    return x_coords, y_coords"
   ]
  },
  {
   "cell_type": "code",
   "execution_count": 36,
   "metadata": {},
   "outputs": [
    {
     "ename": "ValueError",
     "evalue": "num must be 1 <= num <= 2, not 3",
     "output_type": "error",
     "traceback": [
      "\u001b[1;31m---------------------------------------------------------------------------\u001b[0m",
      "\u001b[1;31mValueError\u001b[0m                                Traceback (most recent call last)",
      "\u001b[1;32mc:\\Users\\peacd\\OneDrive - Imperial College London\\Maths\\Fractal Image Compression Project\\M2RFractalImageCompression\\SerpinskiTriangle.ipynb Cell 4\u001b[0m in \u001b[0;36m<cell line: 16>\u001b[1;34m()\u001b[0m\n\u001b[0;32m     <a href='vscode-notebook-cell:/c%3A/Users/peacd/OneDrive%20-%20Imperial%20College%20London/Maths/Fractal%20Image%20Compression%20Project/M2RFractalImageCompression/SerpinskiTriangle.ipynb#W1sZmlsZQ%3D%3D?line=12'>13</a>\u001b[0m plt\u001b[39m.\u001b[39mtitle(\u001b[39m\"\u001b[39m\u001b[39mTriangle after 100 iterations\u001b[39m\u001b[39m\"\u001b[39m)\n\u001b[0;32m     <a href='vscode-notebook-cell:/c%3A/Users/peacd/OneDrive%20-%20Imperial%20College%20London/Maths/Fractal%20Image%20Compression%20Project/M2RFractalImageCompression/SerpinskiTriangle.ipynb#W1sZmlsZQ%3D%3D?line=14'>15</a>\u001b[0m \u001b[39m# Triangle after 1000 iterations\u001b[39;00m\n\u001b[1;32m---> <a href='vscode-notebook-cell:/c%3A/Users/peacd/OneDrive%20-%20Imperial%20College%20London/Maths/Fractal%20Image%20Compression%20Project/M2RFractalImageCompression/SerpinskiTriangle.ipynb#W1sZmlsZQ%3D%3D?line=15'>16</a>\u001b[0m plt\u001b[39m.\u001b[39;49msubplot(\u001b[39m1\u001b[39;49m, \u001b[39m2\u001b[39;49m, \u001b[39m3\u001b[39;49m)\n\u001b[0;32m     <a href='vscode-notebook-cell:/c%3A/Users/peacd/OneDrive%20-%20Imperial%20College%20London/Maths/Fractal%20Image%20Compression%20Project/M2RFractalImageCompression/SerpinskiTriangle.ipynb#W1sZmlsZQ%3D%3D?line=17'>18</a>\u001b[0m x, y \u001b[39m=\u001b[39m create_serpinski(\u001b[39m1000\u001b[39m)\n\u001b[0;32m     <a href='vscode-notebook-cell:/c%3A/Users/peacd/OneDrive%20-%20Imperial%20College%20London/Maths/Fractal%20Image%20Compression%20Project/M2RFractalImageCompression/SerpinskiTriangle.ipynb#W1sZmlsZQ%3D%3D?line=18'>19</a>\u001b[0m plt\u001b[39m.\u001b[39mscatter(x, y,s\u001b[39m=\u001b[39m\u001b[39m20\u001b[39m)\n",
      "File \u001b[1;32mc:\\Users\\peacd\\anaconda3\\lib\\site-packages\\matplotlib\\pyplot.py:1268\u001b[0m, in \u001b[0;36msubplot\u001b[1;34m(*args, **kwargs)\u001b[0m\n\u001b[0;32m   1265\u001b[0m fig \u001b[39m=\u001b[39m gcf()\n\u001b[0;32m   1267\u001b[0m \u001b[39m# First, search for an existing subplot with a matching spec.\u001b[39;00m\n\u001b[1;32m-> 1268\u001b[0m key \u001b[39m=\u001b[39m SubplotSpec\u001b[39m.\u001b[39;49m_from_subplot_args(fig, args)\n\u001b[0;32m   1270\u001b[0m \u001b[39mfor\u001b[39;00m ax \u001b[39min\u001b[39;00m fig\u001b[39m.\u001b[39maxes:\n\u001b[0;32m   1271\u001b[0m     \u001b[39m# if we found an axes at the position sort out if we can re-use it\u001b[39;00m\n\u001b[0;32m   1272\u001b[0m     \u001b[39mif\u001b[39;00m \u001b[39mhasattr\u001b[39m(ax, \u001b[39m'\u001b[39m\u001b[39mget_subplotspec\u001b[39m\u001b[39m'\u001b[39m) \u001b[39mand\u001b[39;00m ax\u001b[39m.\u001b[39mget_subplotspec() \u001b[39m==\u001b[39m key:\n\u001b[0;32m   1273\u001b[0m         \u001b[39m# if the user passed no kwargs, re-use\u001b[39;00m\n",
      "File \u001b[1;32mc:\\Users\\peacd\\anaconda3\\lib\\site-packages\\matplotlib\\gridspec.py:608\u001b[0m, in \u001b[0;36mSubplotSpec._from_subplot_args\u001b[1;34m(figure, args)\u001b[0m\n\u001b[0;32m    606\u001b[0m \u001b[39melse\u001b[39;00m:\n\u001b[0;32m    607\u001b[0m     \u001b[39mif\u001b[39;00m \u001b[39mnot\u001b[39;00m \u001b[39misinstance\u001b[39m(num, Integral) \u001b[39mor\u001b[39;00m num \u001b[39m<\u001b[39m \u001b[39m1\u001b[39m \u001b[39mor\u001b[39;00m num \u001b[39m>\u001b[39m rows\u001b[39m*\u001b[39mcols:\n\u001b[1;32m--> 608\u001b[0m         \u001b[39mraise\u001b[39;00m \u001b[39mValueError\u001b[39;00m(\n\u001b[0;32m    609\u001b[0m             \u001b[39mf\u001b[39m\u001b[39m\"\u001b[39m\u001b[39mnum must be 1 <= num <= \u001b[39m\u001b[39m{\u001b[39;00mrows\u001b[39m*\u001b[39mcols\u001b[39m}\u001b[39;00m\u001b[39m, not \u001b[39m\u001b[39m{\u001b[39;00mnum\u001b[39m!r}\u001b[39;00m\u001b[39m\"\u001b[39m)\n\u001b[0;32m    610\u001b[0m     i \u001b[39m=\u001b[39m j \u001b[39m=\u001b[39m num\n\u001b[0;32m    611\u001b[0m \u001b[39mreturn\u001b[39;00m gs[i\u001b[39m-\u001b[39m\u001b[39m1\u001b[39m:j]\n",
      "\u001b[1;31mValueError\u001b[0m: num must be 1 <= num <= 2, not 3"
     ]
    },
    {
     "data": {
      "image/png": "[encoded data removed]",
      "text/plain": [
       "<Figure size 432x288 with 2 Axes>"
      ]
     },
     "metadata": {
      "needs_background": "light"
     },
     "output_type": "display_data"
    }
   ],
   "source": [
    "# Triangle after 10 iterations\n",
    "plt.subplot(1, 2, 1)\n",
    "\n",
    "x, y = create_serpinski(10)\n",
    "plt.scatter(x, y, s=20)\n",
    "plt.title(\"Triangle after 10 iterations\")\n",
    "\n",
    "# Triangle after 100 iterations\n",
    "plt.subplot(1, 2, 2)\n",
    "\n",
    "x, y = create_serpinski(100)\n",
    "plt.scatter(x, y, s=20)\n",
    "plt.title(\"Triangle after 100 iterations\")\n",
    "\n",
    "# Triangle after 1000 iterations\n",
    "plt.subplot(1, 2, 3)\n",
    "\n",
    "x, y = create_serpinski(1000)\n",
    "plt.scatter(x, y,s=20)\n",
    "plt.title(\"Triangle after 1000 iterations\")\n",
    "\n",
    "# Triangle after 10000 iterations\n",
    "plt.subplot(1, 2, 4)\n",
    "\n",
    "x, y = create_serpinski(10000)\n",
    "plt.scatter(x, y, s=20)\n",
    "plt.title(\"Triangle after 10,000 iterations\")\n",
    "\n",
    "plt.show()\n"
   ]
  }
 ],
 "metadata": {
  "kernelspec": {
   "display_name": "base",
   "language": "python",
   "name": "python3"
  },
  "language_info": {
   "codemirror_mode": {
    "name": "ipython",
    "version": 3
   },
   "file_extension": ".py",
   "mimetype": "text/x-python",
   "name": "python",
   "nbconvert_exporter": "python",
   "pygments_lexer": "ipython3",
   "version": "3.9.12"
  },
  "orig_nbformat": 4
 },
 "nbformat": 4,
 "nbformat_minor": 2
}
